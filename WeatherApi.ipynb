{
  "nbformat": 4,
  "nbformat_minor": 0,
  "metadata": {
    "colab": {
      "provenance": [],
      "authorship_tag": "ABX9TyMdomBtyLc+NCF4rPaKfGSy",
      "include_colab_link": true
    },
    "kernelspec": {
      "name": "python3",
      "display_name": "Python 3"
    },
    "language_info": {
      "name": "python"
    }
  },
  "cells": [
    {
      "cell_type": "markdown",
      "metadata": {
        "id": "view-in-github",
        "colab_type": "text"
      },
      "source": [
        "<a href=\"https://colab.research.google.com/github/alikhan2281337/BMW-The-International/blob/main/WeatherApi.ipynb\" target=\"_parent\"><img src=\"https://colab.research.google.com/assets/colab-badge.svg\" alt=\"Open In Colab\"/></a>"
      ]
    },
    {
      "cell_type": "code",
      "execution_count": 15,
      "metadata": {
        "colab": {
          "base_uri": "https://localhost:8080/"
        },
        "id": "I4DxVEGD8NZ6",
        "outputId": "445e4dd3-b1e9-4851-891f-4aa588f7c51c"
      },
      "outputs": [
        {
          "output_type": "stream",
          "name": "stdout",
          "text": [
            "✅ Получено 201 дней данных (из 200 запрошенных)\n",
            "         Дата  Макс. температура (°C)  Мин. температура (°C)  \\\n",
            "0  2024-08-10                    31.4                   22.6   \n",
            "1  2024-08-11                    30.1                   20.6   \n",
            "2  2024-08-12                    32.3                   20.6   \n",
            "3  2024-08-13                    36.2                   20.9   \n",
            "4  2024-08-14                    34.9                   23.0   \n",
            "5  2024-08-15                    35.7                   23.9   \n",
            "6  2024-08-16                    30.1                   23.4   \n",
            "7  2024-08-17                    32.5                   21.1   \n",
            "8  2024-08-18                    24.9                   17.5   \n",
            "9  2024-08-19                    27.8                   15.8   \n",
            "\n",
            "   Макс. скорость ветра (км/ч)  \n",
            "0                         15.1  \n",
            "1                         16.4  \n",
            "2                         22.6  \n",
            "3                         14.2  \n",
            "4                         18.0  \n",
            "5                         15.1  \n",
            "6                         29.6  \n",
            "7                         16.2  \n",
            "8                         29.8  \n",
            "9                         11.4  \n",
            "✅ Данные сохранены в 'bishkek_weather_200_days.csv'!\n"
          ]
        }
      ],
      "source": [
        "import requests\n",
        "import pandas as pd\n",
        "from datetime import datetime, timedelta\n",
        "\n",
        "# Координаты города Бишкек\n",
        "latitude = 42.8746\n",
        "longitude = 74.5698\n",
        "\n",
        "# Количество дней назад\n",
        "days_back = 200\n",
        "\n",
        "# Определяем даты (200 дней назад)\n",
        "end_date = datetime.now().date()  # Сегодняшняя дата\n",
        "start_date = end_date - timedelta(days=days_back)  # 200 дней назад\n",
        "\n",
        "# Формируем URL для Open-Meteo (архив данных)\n",
        "url = (\n",
        "    f\"https://archive-api.open-meteo.com/v1/archive?\"\n",
        "    f\"latitude={latitude}&longitude={longitude}\"\n",
        "    f\"&start_date={start_date}&end_date={end_date}\"\n",
        "    f\"&daily=temperature_2m_max,temperature_2m_min,wind_speed_10m_max\"\n",
        "    f\"&timezone=Asia/Bishkek\"\n",
        ")\n",
        "\n",
        "# Запрос к API\n",
        "response = requests.get(url)\n",
        "\n",
        "# Проверяем успешность запроса\n",
        "if response.status_code == 200:\n",
        "    data = response.json()\n",
        "\n",
        "    # Проверяем, есть ли данные\n",
        "    if \"daily\" in data:\n",
        "        dates = data[\"daily\"][\"time\"]\n",
        "        temp_max = data[\"daily\"][\"temperature_2m_max\"]\n",
        "        temp_min = data[\"daily\"][\"temperature_2m_min\"]\n",
        "        wind_speed = data[\"daily\"][\"wind_speed_10m_max\"]\n",
        "\n",
        "        # Создаём DataFrame\n",
        "        df = pd.DataFrame({\n",
        "            \"Дата\": dates,\n",
        "            \"Макс. температура (°C)\": temp_max,\n",
        "            \"Мин. температура (°C)\": temp_min,\n",
        "            \"Макс. скорость ветра (км/ч)\": wind_speed\n",
        "        })\n",
        "\n",
        "        # Выводим результат\n",
        "        print(f\"✅ Получено {len(df)} дней данных (из 200 запрошенных)\")\n",
        "        print(df.head(10))  # Показываем первые 10 строк\n",
        "\n",
        "        # Сохраняем в CSV\n",
        "        df.to_csv(\"bishkek_weather_200_days.csv\", index=False)\n",
        "        print(\"✅ Данные сохранены в 'bishkek_weather_200_days.csv'!\")\n",
        "    else:\n",
        "        print(\"❌ Данные недоступны. Возможно, для этой даты их нет.\")\n",
        "else:\n",
        "    print(\"❌ Ошибка при получении данных! Код ошибки:\", response.status_code)\n"
      ]
    }
  ]
}